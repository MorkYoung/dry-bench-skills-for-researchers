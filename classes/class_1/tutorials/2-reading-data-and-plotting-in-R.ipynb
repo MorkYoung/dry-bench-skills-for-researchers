{
 "cells": [
  {
   "cell_type": "markdown",
   "metadata": {},
   "source": [
    "# Plotting in R with `ggplot2` and friends\n",
    "\n",
    "\n",
    " __email__: christina@lifebit.ai\n",
    " \n",
    "(or create a new issue in the workshop's github repo [here](https://github.com/lifebit-ai/dry-bench-skills-for-researchers/issues))"
   ]
  },
  {
   "cell_type": "markdown",
   "metadata": {},
   "source": [
    "## Loading libraries"
   ]
  },
  {
   "cell_type": "code",
   "execution_count": null,
   "metadata": {},
   "outputs": [],
   "source": [
    "library(data.table)\n",
    "library(EnhancedVolcano)"
   ]
  },
  {
   "cell_type": "markdown",
   "metadata": {},
   "source": [
    "# Getting RNAseq data to test our plot from ZENODO"
   ]
  },
  {
   "cell_type": "markdown",
   "metadata": {},
   "source": [
    "We will utilise the  data from from [Bioconductor's Rnaseq Workflow](http://master.bioconductor.org/packages/release/workflows/vignettes/rnaseqGene/inst/doc/rnaseqGene.html). We will see this dataset again a little later from another R package  for plotting. For retrieving the results of the differential expression analysis, we will follow the tutorial (from Section 3.1) of the RNA-seq workflow. Specifically, we will load the [airway](https://bioconductor.org/packages/release/data/experiment/html/airway.html) data, where different airway smooth muscle cells were treated with dexamethasone. We will use this dataset to explore different visualisations for presenting differential abundance. While the data we will use are from an RNAseq experiment, we can utilise the same visualisations for other omics data such as proteomics or metabolomics after the relevant preprocessing.\n",
    "\n",
    "\n",
    "For this course we have uploaded the data in **ZENODO**, to make it easier to use them in the tutorial.\n",
    "The pre-processed data can be found at: https://zenodo.org/record/4302133#.X8ebs6pKja4"
   ]
  },
  {
   "cell_type": "code",
   "execution_count": null,
   "metadata": {},
   "outputs": [],
   "source": [
    "results <- data.table::fread(file = \"deseq2_5k.csv\")"
   ]
  },
  {
   "cell_type": "markdown",
   "metadata": {},
   "source": [
    "# Let's inspect the results \n",
    "We quickly notice the log2FoldChange and adjusted pValue. In a differential expression experiment, these two metrics give us a quick overview of the most interesting measured transcripts of genes."
   ]
  },
  {
   "cell_type": "code",
   "execution_count": null,
   "metadata": {},
   "outputs": [],
   "source": [
    "head(results)"
   ]
  },
  {
   "cell_type": "markdown",
   "metadata": {},
   "source": [
    "# Easy volcano plots with `{EnhancedVolcano}` R package 📦\n",
    "\n",
    "The `{EnhancedVolcano}` R package 📦 has been developed by [Kevin Blighe](https://www.biostars.org/u/41557/) - the name might seem familiar as you might have come across it several times if you find yourselves in [Biostars](https://www.biostars.org/u/41557/) frequently. Kevin Blighe, is not merely a very active Biostars users but also the admin! The `{EnhancedVolcano}` R package, is one very useful R package, as it provides great flexibility and ease for creating publication ready Volcano plots. We will be following the package `vignette`, which can be found [here](https://github.com/kevinblighe/EnhancedVolcano), in the respective GitHub repository.Let's see the package in action!"
   ]
  },
  {
   "cell_type": "code",
   "execution_count": null,
   "metadata": {},
   "outputs": [],
   "source": [
    "# A minimal function call, for a complete plot\n",
    "\n",
    "gg<- EnhancedVolcano(toptable = results, \n",
    "                    lab = results$feature,\n",
    "                    x = 'log2FoldChange',\n",
    "                    y = 'pvalue',\n",
    "                    xlim = c(-5, 8))\n",
    "\n",
    "gg"
   ]
  },
  {
   "cell_type": "code",
   "execution_count": null,
   "metadata": {},
   "outputs": [],
   "source": [
    "install.packages('plotly') ; library(plotly)"
   ]
  },
  {
   "cell_type": "markdown",
   "metadata": {},
   "source": [
    "# Let's customise the 🌋 plot a bit more"
   ]
  },
  {
   "cell_type": "markdown",
   "metadata": {},
   "source": [
    "- Modify cut-offs for log2FC and P value\n",
    "- specify title \n",
    "- adjust point and label size\n"
   ]
  },
  {
   "cell_type": "code",
   "execution_count": null,
   "metadata": {},
   "outputs": [],
   "source": [
    "gg<-   EnhancedVolcano::EnhancedVolcano( results,    \n",
    "                        col=c('grey', 'grey', 'orange', 'forestgreen'),\n",
    "\n",
    "                        lab = results$feature,\n",
    "                        x = 'log2FoldChange',\n",
    "                        y = 'pvalue',\n",
    "                        xlim = c(-6, 6),\n",
    "\n",
    "                        title = 'Differential abundance (untreated with respect to treated cells)',  \n",
    "                        titleLabSize = 12,\n",
    "                       \n",
    "                        subtitle = '{EnhancedVolcano} for JAX',\n",
    "                        subtitleLabSize = 10,\n",
    "                       \n",
    "                        caption = \"Treated vs Untreated with dexamethasone\",\n",
    "                        captionLabSize = 10,\n",
    "                       \n",
    "                        pCutoff = 10e-16,\n",
    "                        FCcutoff = 1.2,\n",
    "                        pointSize = 1.0,\n",
    "                        labSize = 3.0)\n",
    "\n",
    "gg"
   ]
  },
  {
   "cell_type": "markdown",
   "metadata": {},
   "source": [
    "# Appendix"
   ]
  },
  {
   "cell_type": "markdown",
   "metadata": {},
   "source": [
    "## Generating the data we used for the plot"
   ]
  },
  {
   "cell_type": "markdown",
   "metadata": {},
   "source": [
    "To save some waiting time we loaded the precomputed results from the comparison described above, our set contrast for treated and untreated with dexamethasone muscle cells. You can reproduce this table by running the following code:\n",
    "\n",
    "\n",
    "```r\n",
    "# this code snippet is written in markdown, enclosed in ``` and will not be executed\n",
    "# to run paste in a code cell\n",
    "\n",
    "library(magrittr)\n",
    "library('DESeq2')\n",
    "library(airway)\n",
    "\n",
    "data('airway')\n",
    "\n",
    "levels(airway$dex)\n",
    "airway$dex %<>% relevel('untrt')\n",
    "levels(airway$dex)\n",
    "\n",
    "dds <- DESeqDataSet(airway, design = ~ cell + dex)\n",
    "dds <- DESeq(dds, betaPrior=FALSE)\n",
    "\n",
    "res1 <- results(dds,contrast = c('dex','trt','untrt'))\n",
    "subsampled_results <- res1[1:5000,]\n",
    "subsampled_results$feature <- subsampled_results@rownames\n",
    "                          \n",
    "# Subsample and save an object to an Rds and a csv file\n",
    "saveRDS(subsample_results, file = \"deseq2_5k.rds\")\n",
    "loaded_results_RDS <- readRDS(file = \"deseq2_5k.rds\")\n",
    "data.table::fwrite(as.data.frame(subsampled_results),\n",
    "                   col.names = TRUE, \n",
    "                   row.names = FALSE,\n",
    "                   file = \"../data/2-plotting-in-R/deseq2_5k.csv\", \n",
    "                   sep  =',')\n",
    "\n",
    "\n",
    "```\n"
   ]
  }
 ],
 "metadata": {
  "kernelspec": {
   "display_name": "R",
   "language": "R",
   "name": "ir"
  },
  "language_info": {
   "codemirror_mode": "r",
   "file_extension": ".r",
   "mimetype": "text/x-r-source",
   "name": "R",
   "pygments_lexer": "r",
   "version": "4.0.3"
  },
  "widgets": {
   "application/vnd.jupyter.widget-state+json": {
    "state": {},
    "version_major": 2,
    "version_minor": 0
   }
  }
 },
 "nbformat": 4,
 "nbformat_minor": 4
}
